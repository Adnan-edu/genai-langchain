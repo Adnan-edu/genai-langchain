{
  "cells": [
    {
      "cell_type": "markdown",
      "metadata": {
        "id": "wrgOhk8U4Rpl"
      },
      "source": [
        "# Quickstart: Querying PDF With Astra and LangChain\n",
        "\n",
        "### A question-answering demo using Astra DB and LangChain, powered by Vector Search"
      ]
    },
    {
      "cell_type": "markdown",
      "metadata": {
        "id": "MqfJKgRM4Rpo"
      },
      "source": [
        "#### Pre-requisites:\n",
        "\n",
        "You need a **_Serverless Cassandra with Vector Search_** database on [Astra DB](https://astra.datastax.com) to run this demo. As outlined in more detail [here](https://docs.datastax.com/en/astra-serverless/docs/vector-search/quickstart.html#_prepare_for_using_your_vector_database), you should get a DB Token with role _Database Administrator_ and copy your Database ID: these connection parameters are needed momentarily.\n",
        "\n",
        "You also need an [OpenAI API Key](https://cassio.org/start_here/#llm-access) for this demo to work.\n",
        "\n",
        "#### What you will do:\n",
        "\n",
        "- Setup: import dependencies, provide secrets, create the LangChain vector store;\n",
        "- Run a Question-Answering loop retrieving the relevant headlines and having an LLM construct the answer."
      ]
    },
    {
      "cell_type": "markdown",
      "metadata": {
        "id": "m_FeN-Ep4Rpp"
      },
      "source": [
        "Install the required dependencies:"
      ]
    },
    {
      "cell_type": "code",
      "execution_count": null,
      "metadata": {
        "id": "Uk0qUhJUQrkO"
      },
      "outputs": [],
      "source": [
        "!pip install -q cassio datasets langchain openai tiktoken"
      ]
    },
    {
      "cell_type": "markdown",
      "metadata": {
        "id": "XQQN-L2J4Rpq"
      },
      "source": [
        "Import the packages you'll need:"
      ]
    },
    {
      "cell_type": "code",
      "execution_count": 1,
      "metadata": {
        "id": "V4qBIihE4Rpq"
      },
      "outputs": [
        {
          "name": "stderr",
          "output_type": "stream",
          "text": [
            "/Users/mdashikadnan/Documents/adnanedu/python/langchain/genai-langchain/venv/lib/python3.10/site-packages/tqdm/auto.py:21: TqdmWarning: IProgress not found. Please update jupyter and ipywidgets. See https://ipywidgets.readthedocs.io/en/stable/user_install.html\n",
            "  from .autonotebook import tqdm as notebook_tqdm\n"
          ]
        }
      ],
      "source": [
        "# LangChain components to use\n",
        "from langchain.vectorstores.cassandra import Cassandra\n",
        "from langchain.indexes.vectorstore import VectorStoreIndexWrapper\n",
        "from langchain.llms import OpenAI\n",
        "from langchain.embeddings import OpenAIEmbeddings\n",
        "\n",
        "# Support for dataset retrieval with Hugging Face\n",
        "from datasets import load_dataset\n",
        "\n",
        "# With CassIO, the engine powering the Astra DB integration in LangChain,\n",
        "# you will also initialize the DB connection:\n",
        "import cassio"
      ]
    },
    {
      "cell_type": "code",
      "execution_count": null,
      "metadata": {
        "colab": {
          "base_uri": "https://localhost:8080/"
        },
        "id": "WIs76OPQ6JyD",
        "outputId": "2464981f-aea9-499d-ccb4-5f43ea76061d"
      },
      "outputs": [
        {
          "name": "stdout",
          "output_type": "stream",
          "text": [
            "Requirement already satisfied: PyPDF2 in /usr/local/lib/python3.10/dist-packages (3.0.1)\n"
          ]
        }
      ],
      "source": [
        "!pip install PyPDF2"
      ]
    },
    {
      "cell_type": "code",
      "execution_count": 2,
      "metadata": {
        "id": "1itBNL1v6N9-"
      },
      "outputs": [],
      "source": [
        "from PyPDF2 import PdfReader"
      ]
    },
    {
      "cell_type": "markdown",
      "metadata": {
        "id": "Vu2UauiC4Rpr"
      },
      "source": [
        "### Setup"
      ]
    },
    {
      "cell_type": "code",
      "execution_count": 3,
      "metadata": {
        "id": "eqpM6I854Rpr"
      },
      "outputs": [
        {
          "data": {
            "text/plain": [
              "True"
            ]
          },
          "execution_count": 3,
          "metadata": {},
          "output_type": "execute_result"
        }
      ],
      "source": [
        "import os\n",
        "from dotenv import load_dotenv\n",
        "load_dotenv()"
      ]
    },
    {
      "cell_type": "markdown",
      "metadata": {
        "id": "Q1cmD5EF4Rpr"
      },
      "source": [
        "#### Provide your secrets:\n",
        "\n",
        "Replace the following with your Astra DB connection details and your OpenAI API key:"
      ]
    },
    {
      "cell_type": "code",
      "execution_count": 5,
      "metadata": {
        "id": "waVKJW-n6jqJ"
      },
      "outputs": [],
      "source": [
        "# provide the path of  pdf file/files.\n",
        "pdfreader = PdfReader('spice.pdf')"
      ]
    },
    {
      "cell_type": "code",
      "execution_count": 6,
      "metadata": {
        "id": "42BKuFRO6meP"
      },
      "outputs": [],
      "source": [
        "from typing_extensions import Concatenate\n",
        "# read text from pdf\n",
        "raw_text = ''\n",
        "for i, page in enumerate(pdfreader.pages):\n",
        "    content = page.extract_text()\n",
        "    if content:\n",
        "        raw_text += content"
      ]
    },
    {
      "cell_type": "code",
      "execution_count": 7,
      "metadata": {
        "colab": {
          "base_uri": "https://localhost:8080/",
          "height": 192
        },
        "id": "vR41Iq-4ZHnG",
        "outputId": "861bc27a-fd4d-47f9-f722-8e365a6fd030"
      },
      "outputs": [
        {
          "data": {
            "text/plain": [
              "'Spices\\nSpices at a central market in Agadir,\\nMorocco\\nA group of Indian herbs and spices in\\nbowls\\nSpices of Saúde flea market, São\\nPaulo, BrazilSpice\\nA spice is a seed, fruit, root, bark, or other plant substance\\nprimarily used for flavoring or coloring food. Spices are\\ndistinguished from herbs, which are the leaves, flowers, or stems of\\nplants used for flavoring or as a garnish. Spices are sometimes used\\nin medicine, religious rituals, cosmetics, or perfume produc tion.\\nFor example, vanilla is commonly used as an ingredient in\\nfragrance manufacturing.[1]\\nA spice may be available in several forms: fresh, whole-dried, or\\npre-ground dried. Generally, spices are dried. Spices may be\\nground into a powder for conve nience. A whole dried spice has the\\nlonge st shelf life, so it can be purchased and stored in larger\\namounts, making it cheaper on a per-serving basis. A fresh spice,\\nsuch as ginger, is usually more flavorful than its dried form, but\\nfresh spices are more expensive and have a much shorter shelf life.\\nSome spices are not always available either fresh or whole, for\\nexample, turmeric, and often must be purchased in ground form.\\nSmall seeds, such as fennel and mustard seeds, are often used both\\nwhole and in pow der form.\\nAs of 2019, there is not enough clinical evidence to indicate that\\nconsuming spices affects hum an health.[2]\\nIndia contributes to 75% of global spice produc tion. This is\\nreflected culturally through their cuisine; historically, the spice trade\\ndeveloped throughout  the Indian subcontinent as well as in East\\nAsia and the Middle East. Europe\\'s demand for spices was among\\nthe econom ic and cultural factors that encouraged exploration in\\nthe early modern period.\\nThe word spice originated in Middle English[3] which came from\\nthe Old French words espece, espis(c)e, and espis(c)e.[4]\\nAccording to the Middle English Dictionary, the Old French words\\ncame from Anglo-French spece;[4] according to Merriam Webster,Etymology\\nthe Old-French words came from Anglo-French espece, and espis.[3] Both publications agree that the\\nAnglo-French words are derived from Latin species.[3][4] Middle English spice had its first know n use as a\\nnoun i n the 13th century.[3]\\nThe spice trade developed throughout  the Indian subcontinent[5] and Middle East by 2000 BCE with\\ncinnamon and black pepper, and in East Asia with herbs and pepper. The Egyptians used herbs for cuisine\\nand mummification. Their demand for exotic spices and he rbs helped stimulate world trade.\\nCloves were used in Mesopotamia by 1700 BCE.[note 1] The earliest written records of spices come from\\nancient Egyptian, Chinese, and Indian cultures. The Ebers Papyrus from early Egypt dating from 1550\\nBCE describes some eight hundr ed different herbal medicinal remedies and numerous medicinal\\nprocedures.[9]\\nBy 1000 BCE, medical systems based upon herbs could be found in China, Korea, and India. Early uses\\nwere conne cted with magic, medicine, religion, tradition, a nd pr eservation.[10]\\nIndone sian merchants traveled around China, India, the Middle East, and the east coast of Africa. Arab\\nmerchants facilitated the routes through the Middle East and India. This resulted in the Egyptian port city of\\nAlexandria being the main trading center for spices. The most important discovery prior to the European\\nspice trade was the monsoon winds (40 CE). Sailing from Eastern spice cultivators to Western European\\nconsumers gradually replaced the land-locked spice routes once facilitated by the Middle East Arab\\ncaravans.[10]\\nSpices were prominent enough in the ancient world that they are mentioned in the Old Testament. In\\nGenesis, Joseph was sold into slavery by his brothers to spice merchants. In Exodus , manna is described as\\nbeing similar to coriander in appearance. In the Song of Solomon, the male narrator compares his beloved\\nto many saffron, c innamon, a nd ot her spices.\\nThe ancient Indian epic Ramayana mentions cloves.\\nHistorians believe that nutmeg, which originates from the Banda Islands in Southeast Asia, was introduc ed\\nto Europe in the 6th century BCE.[11] The Romans had cloves in the 1st century CE, as Pliny the Elder\\nwrote about them.[12]\\nSpices were among the most demanded and expensive produc ts available in Europe in the Middle Ages,[5]\\nthe most common being black pepper, cinnamon (and the cheaper alternative cassia), cumin, nutmeg,\\nginger, and cloves. Given medieval medicine\\'s main theory of humorism, spices and herbs were\\nindispensable to balance \"humors\" in food,[6] on a daily basis for good health at a time of recurrent\\npandemics. In addition to being desired by those using medieval medicine, the European elite also craved\\nspices in the Middle Ages, believing spices to be from and a conne ction to \"paradise\".[13] An example of\\nthe European aristocracy\\'s demand for spice comes from the King of Aragon, who invested substantial\\nresources into bringing back spices to Spain in the 12th century. He was specifically looking for spices to\\nput in wine and w as not alone among European monarchs at the time to have such a desire for spice.[14]History\\nEarly history\\nMiddle Ages\\n\"The Mullus\" harvesting pepper.\\nIllustration from a French edition of\\nThe Travels of Marco Polo.\\nTurmeric powder, mustard seeds,\\nchili powder, cumin seedsSpices were all imported from plantations in Asia and Africa, which\\nmade them expensive. From the 8th until the 15th century, the\\nRepublic of Venice held a monopol y on spice trade with the Middle\\nEast, using this position to dominate the neighbor ing Italian\\nmaritime republics and city-states. The trade made the region rich. It\\nhas been estimated that around 1,000 tons of pepper and 1,000 tons\\nof other common spices were imported into Western Europe each\\nyear during the Late Middle Ages. The value of these goods  was\\nthe equivalent of a yearly supply of grain for 1.5 million people.[15]\\nThe most exclusive was saffron, used as much for its vivid yellow-\\nred color as for its flavor. Spices that have now fallen into obscurity\\nin European cuisine include grains of paradise, a relative of\\ncardamom which mostly replaced pepper in late medieval north\\nFrench cooking, long pe pper, mace, spikenard, galangal, and cubeb.[16]\\nSpain and Portugal were interested in seeking new routes to trade in spices and other valuable produc ts\\nfrom Asia. The control of trade routes and the spice-produc ing regions were the main reasons that\\nPortugue se navigator Vasco da Gama sailed to India in 1499.[8] When da Gama discovered the pepper\\nmarket in India, he was able to secure peppers for a much cheaper price than the ones demanded by\\nVenice.[14] At around  the same time, Christophe r Columbus returned from the New World. He described to\\ninvestors the new spices available there.\\nAnother source of competition in the spice trade during the 15th and 16th centuries was the Ragusans from\\nthe maritime republic of Dubrovnik in southern Croatia.[17] The military prowess of Afonso de\\nAlbuque rque (1453–1515)  allowed the Portugue se to take control of the sea routes to India. In 1506, he\\ntook the island of Socotra in the mouth of the Red Sea and, in 1507, Ormuz in the Persian Gulf. Since\\nbecoming the viceroy of the Indies, he took Goa in India in 1510, and Malacca on the Malay peninsula in\\n1511. The Portugue se could now  trade directly with Siam, China, and the Maluku I slands.\\nWith the discovery of the New World came new spices, including allspice, chili peppers, vanilla, and\\nchocolate. This development kept the spice trade, with America as a latecomer with its new seasonings,\\nprofitable well into the 19th century.\\nSpices are primarily used as food flavoring or to create variety.[18]\\nThey are also used to perfume cosmetics and incense. At various\\nperiods, many spices were used in herbal medicine. Finally, since\\nthey are expensive, rare, and exotic commodities, their conspicuous\\nconsumption has often been a symbol of wealth and social class.[16]\\nIt is often claimed that spices were used either as food preservatives\\nor to mask the taste of spoiled meat, especially in the European\\nMiddle Ages.[16][19] This is false.[20][21][22][16] In fact, spices are\\nrather ineffective as preservatives as compared to salting, smoking,Early modern period\\nFunction\\nPreservative claim\\nThe most popul ar explanation for\\nthe love of spices in the Middle\\nAges is that they were used to\\npreserve meat from spoiling, or to\\ncover up the taste of meat that\\nhad already gone  off. This\\ncompelling but false idea\\nconstitutes something of an urban\\nlegend, a story so instinctively\\nattractive that mere fact seems\\nunable to wipe it out... Anyone\\nwho could afford spices could\\neasily find meat fresher than what\\ncity dwellers today buy in their\\nlocal supermarket.[16]\\nA plate of Indian herbs and spicespickling, or drying, and are ineffective in covering the taste of\\nspoiled meat.[16] Moreover, spices have always been\\ncomparatively expensive: in 15th century Oxford, a whole pig cost\\nabout the same as a pound of the cheapest spice, pepper.[16] There\\nis also no evidence of such use from contemporary cookbooks :\\n\"Old cookbooks  make it clear that spices weren\\'t used as a\\npreservative. They typically sugge st adding spices toward the end\\nof the cooking process, where they could have no preservative\\neffect whatsoever.\"[23] Indeed, Cristoforo di Messisbugo\\nsugge sted in the 16th century that pepper may speed up\\nspoilage.[23]\\nThough some spices have antimicrobial properties in vitro,[24]\\npepper—by far the most common spice—is relatively ineffective,\\nand in any case, salt, which is far cheaper, is also far more\\neffective.[23]\\nSeeds, such as fennel, mustard, nutmeg, and black\\npepper\\nFruits, such as Cayenne pepper and Chimayo pepper\\nArils, such as mace (part of nutmeg plant fruit)\\nBarks, such as True Cinnamon and cassia\\nFlower buds, such as cloves\\nStigmas, such as saffron\\nRoots and rhizomes, such as turmeric, ginger and\\ngalangal\\nResins, such as asafoetida\\nAdvieh (Iran)\\nBaharat (Arab world, and the Middle East in general)\\nBerbere (Ethiopia, Eritrea and Somalia)\\nBumbu (Indonesia)\\nCajun (United States)\\nChaat masala (Indian subcontinent)\\nChili powder and crushed red pepper (Cayenne, Chipotle, Jalapeño, New Mexico, Tabasco,\\nand other cultivars)\\nCurry powder\\nFive-spice powder (China)Classification and types\\nCulinary herbs and spices\\nBotanical basis\\nCommon spice mixtures\\nA shelf of common spices for a\\nhome kitchen in Canada or the\\nUnited States\\nPepper millGaram masala (Indian subcontinent)\\nHarissa (North Africa)\\nHawaij (Yemen)\\nJerk spice (Jamaica)\\nKhmeli suneli (Georgia, former U.S.S.R.)\\nMasala (a generic name for any mix used in the Indian subcontinent)\\nMixed spice (United Kingdom)\\nPanch phoron (Indian subcontinent)\\nPumpkin pie spice (United States)\\nQuatre épices (France)\\nRas el hanout (North Africa)\\nSharena sol (literally \"colorful salt\", Bulgaria)\\nShichimi tōgarashi (Japan)\\nSpeculaas (Belgium and Netherlands)\\nThuna Paha (Sri Lanka)\\nVegeta (Croatia)\\nZa\\'atar (Middle East)\\nFor ground spices, to grind a whole spice, the\\nclassic tool is mortar and pestle. Less labor-\\nintensive tools are more common now: a\\nmicroplane or fine grater can be used to grind\\nsmall amounts; a coffee grinder[note 2] is\\nuseful for larger amounts. A frequently used\\nspice such as black pepper may merit storage\\nin its own hand gr inder or mill.\\nThe flavor of a spice is derived in part from\\ncompounds  (volatile oils) that oxidize or\\nevaporate when exposed to air. Grinding a\\nspice greatly increases its surface area and so increases the rates of\\noxidation and evaporation. Thus, the flavor is maximized by storing a spice whole and grinding when\\nneeded. The shelf life of a whole dry spice is roughl y two years; of a ground spice roughl y six months.[25]\\nThe \"flavor life\" of a ground spice can be much shorter.[note 3] Ground spices are better stored away from\\nlight.[note 4]\\nSome flavor elements in spices are soluble in water; many are soluble in oil or fat. As a general rule, the\\nflavors from a spice take time to infuse into the food so spices are added early in preparation. This contrasts\\nto herbs which are usually added late in preparation.[25]Handling\\nSalmonella contamination\\nSpices and herbs at a shop in Goa,\\nIndiaTop Spice Producing Countries\\n(in metric tonnes)\\nRank Country 2010 2011\\n1 India 1,474,9001,525,000\\n2 Bangladesh128,517 139,775\\n3 Turkey 107,000 113,783\\n4 China 90,000 95,890\\n5 Pakistan 53,647 53,620\\n6 Iran 18,028 21,307\\n7 Nepal 20,360 20,905\\n8 Colombia 16,998 19,378\\n9 Ethiopia 27,122 17,905\\n10 Sri Lanka 8,293 8,438\\n— World 1,995,5232,063,472\\nSource: UN Food & Agriculture Organization[30]A study by the Food and Drug Administration of shipments of spices to the United States during fiscal\\nyears 2007 –2009 showed about 7% of the shipments were contaminated by Salmonella bacteria, some of it\\nantibiotic-resistant.[26] As most spices are cooke d before being served salmonella contamination often has\\nno effect, but some spices, particularly pepper, are often eaten raw and present at table for conve nient use.\\nShipments from Mexico and India, a major produc er, were the most frequently contaminated.[27] Food\\nirradiation is said to minimise this risk.[28][29]\\nProduction\\nStandardization\\n'"
            ]
          },
          "execution_count": 7,
          "metadata": {},
          "output_type": "execute_result"
        }
      ],
      "source": [
        "raw_text"
      ]
    },
    {
      "cell_type": "markdown",
      "metadata": {
        "id": "5S0GgIQs4Rps"
      },
      "source": [
        "Initialize the connection to your database:\n",
        "\n",
        "_(do not worry if you see a few warnings, it's just that the drivers are chatty about negotiating protocol versions with the DB.)_"
      ]
    },
    {
      "cell_type": "code",
      "execution_count": 9,
      "metadata": {
        "colab": {
          "base_uri": "https://localhost:8080/"
        },
        "id": "zFBR5HnZSPmK",
        "outputId": "5b4bb3ea-6be3-4d7a-c535-88715fa67c13"
      },
      "outputs": [],
      "source": [
        "cassio.init(token=os.getenv(\"ASTRA_DB_APPLICATION_TOKEN\"), database_id=os.getenv(\"ASTRA_DB_ID\"))"
      ]
    },
    {
      "cell_type": "markdown",
      "metadata": {
        "id": "ex7NxZYb4Rps"
      },
      "source": [
        "Create the LangChain embedding and LLM objects for later usage:"
      ]
    },
    {
      "cell_type": "code",
      "execution_count": 10,
      "metadata": {
        "id": "TavS0AK2SLrL"
      },
      "outputs": [
        {
          "name": "stderr",
          "output_type": "stream",
          "text": [
            "/var/folders/g5/58p5c8f568398j2qrhdc7smw0000gn/T/ipykernel_4018/3946141155.py:1: LangChainDeprecationWarning: The class `OpenAI` was deprecated in LangChain 0.0.10 and will be removed in 1.0. An updated version of the class exists in the langchain-openai package and should be used instead. To use it run `pip install -U langchain-openai` and import as `from langchain_openai import OpenAI`.\n",
            "  llm = OpenAI(openai_api_key=os.getenv(\"OPENAI_API_KEY\"))\n",
            "/var/folders/g5/58p5c8f568398j2qrhdc7smw0000gn/T/ipykernel_4018/3946141155.py:2: LangChainDeprecationWarning: The class `OpenAIEmbeddings` was deprecated in LangChain 0.0.9 and will be removed in 1.0. An updated version of the class exists in the langchain-openai package and should be used instead. To use it run `pip install -U langchain-openai` and import as `from langchain_openai import OpenAIEmbeddings`.\n",
            "  embedding = OpenAIEmbeddings(openai_api_key=os.getenv(\"OPENAI_API_KEY\"))\n"
          ]
        }
      ],
      "source": [
        "llm = OpenAI(openai_api_key=os.getenv(\"OPENAI_API_KEY\"))\n",
        "embedding = OpenAIEmbeddings(openai_api_key=os.getenv(\"OPENAI_API_KEY\"))"
      ]
    },
    {
      "cell_type": "markdown",
      "metadata": {
        "id": "9HMMx5Pm4Rpt"
      },
      "source": [
        "Create your LangChain vector store ... backed by Astra DB!"
      ]
    },
    {
      "cell_type": "code",
      "execution_count": 11,
      "metadata": {
        "id": "bg9VAk4USQvU"
      },
      "outputs": [],
      "source": [
        "astra_vector_store = Cassandra(\n",
        "    embedding=embedding,\n",
        "    table_name=\"qa_mini_demo\",\n",
        "    session=None,\n",
        "    keyspace=None,\n",
        ")"
      ]
    },
    {
      "cell_type": "code",
      "execution_count": 12,
      "metadata": {
        "id": "9FMAhKr77AVO"
      },
      "outputs": [],
      "source": [
        "from langchain.text_splitter import CharacterTextSplitter\n",
        "# We need to split the text using Character Text Split such that it should not increse token size\n",
        "text_splitter = CharacterTextSplitter(\n",
        "    separator = \"\\n\",\n",
        "    chunk_size = 800,\n",
        "    chunk_overlap  = 200,\n",
        "    length_function = len,\n",
        ")\n",
        "texts = text_splitter.split_text(raw_text)"
      ]
    },
    {
      "cell_type": "code",
      "execution_count": 13,
      "metadata": {
        "colab": {
          "base_uri": "https://localhost:8080/"
        },
        "id": "k8BDHAyT7Gjr",
        "outputId": "7833f6ac-bd97-40d6-fcbe-94a81b4dd6ac"
      },
      "outputs": [
        {
          "data": {
            "text/plain": [
              "['Spices\\nSpices at a central market in Agadir,\\nMorocco\\nA group of Indian herbs and spices in\\nbowls\\nSpices of Saúde flea market, São\\nPaulo, BrazilSpice\\nA spice is a seed, fruit, root, bark, or other plant substance\\nprimarily used for flavoring or coloring food. Spices are\\ndistinguished from herbs, which are the leaves, flowers, or stems of\\nplants used for flavoring or as a garnish. Spices are sometimes used\\nin medicine, religious rituals, cosmetics, or perfume produc tion.\\nFor example, vanilla is commonly used as an ingredient in\\nfragrance manufacturing.[1]\\nA spice may be available in several forms: fresh, whole-dried, or\\npre-ground dried. Generally, spices are dried. Spices may be\\nground into a powder for conve nience. A whole dried spice has the',\n",
              " 'A spice may be available in several forms: fresh, whole-dried, or\\npre-ground dried. Generally, spices are dried. Spices may be\\nground into a powder for conve nience. A whole dried spice has the\\nlonge st shelf life, so it can be purchased and stored in larger\\namounts, making it cheaper on a per-serving basis. A fresh spice,\\nsuch as ginger, is usually more flavorful than its dried form, but\\nfresh spices are more expensive and have a much shorter shelf life.\\nSome spices are not always available either fresh or whole, for\\nexample, turmeric, and often must be purchased in ground form.\\nSmall seeds, such as fennel and mustard seeds, are often used both\\nwhole and in pow der form.\\nAs of 2019, there is not enough clinical evidence to indicate that\\nconsuming spices affects hum an health.[2]',\n",
              " \"whole and in pow der form.\\nAs of 2019, there is not enough clinical evidence to indicate that\\nconsuming spices affects hum an health.[2]\\nIndia contributes to 75% of global spice produc tion. This is\\nreflected culturally through their cuisine; historically, the spice trade\\ndeveloped throughout  the Indian subcontinent as well as in East\\nAsia and the Middle East. Europe's demand for spices was among\\nthe econom ic and cultural factors that encouraged exploration in\\nthe early modern period.\\nThe word spice originated in Middle English[3] which came from\\nthe Old French words espece, espis(c)e, and espis(c)e.[4]\\nAccording to the Middle English Dictionary, the Old French words\\ncame from Anglo-French spece;[4] according to Merriam Webster,Etymology\",\n",
              " 'the Old French words espece, espis(c)e, and espis(c)e.[4]\\nAccording to the Middle English Dictionary, the Old French words\\ncame from Anglo-French spece;[4] according to Merriam Webster,Etymology\\nthe Old-French words came from Anglo-French espece, and espis.[3] Both publications agree that the\\nAnglo-French words are derived from Latin species.[3][4] Middle English spice had its first know n use as a\\nnoun i n the 13th century.[3]\\nThe spice trade developed throughout  the Indian subcontinent[5] and Middle East by 2000 BCE with\\ncinnamon and black pepper, and in East Asia with herbs and pepper. The Egyptians used herbs for cuisine\\nand mummification. Their demand for exotic spices and he rbs helped stimulate world trade.',\n",
              " 'cinnamon and black pepper, and in East Asia with herbs and pepper. The Egyptians used herbs for cuisine\\nand mummification. Their demand for exotic spices and he rbs helped stimulate world trade.\\nCloves were used in Mesopotamia by 1700 BCE.[note 1] The earliest written records of spices come from\\nancient Egyptian, Chinese, and Indian cultures. The Ebers Papyrus from early Egypt dating from 1550\\nBCE describes some eight hundr ed different herbal medicinal remedies and numerous medicinal\\nprocedures.[9]\\nBy 1000 BCE, medical systems based upon herbs could be found in China, Korea, and India. Early uses\\nwere conne cted with magic, medicine, religion, tradition, a nd pr eservation.[10]\\nIndone sian merchants traveled around China, India, the Middle East, and the east coast of Africa. Arab',\n",
              " 'were conne cted with magic, medicine, religion, tradition, a nd pr eservation.[10]\\nIndone sian merchants traveled around China, India, the Middle East, and the east coast of Africa. Arab\\nmerchants facilitated the routes through the Middle East and India. This resulted in the Egyptian port city of\\nAlexandria being the main trading center for spices. The most important discovery prior to the European\\nspice trade was the monsoon winds (40 CE). Sailing from Eastern spice cultivators to Western European\\nconsumers gradually replaced the land-locked spice routes once facilitated by the Middle East Arab\\ncaravans.[10]\\nSpices were prominent enough in the ancient world that they are mentioned in the Old Testament. In',\n",
              " 'caravans.[10]\\nSpices were prominent enough in the ancient world that they are mentioned in the Old Testament. In\\nGenesis, Joseph was sold into slavery by his brothers to spice merchants. In Exodus , manna is described as\\nbeing similar to coriander in appearance. In the Song of Solomon, the male narrator compares his beloved\\nto many saffron, c innamon, a nd ot her spices.\\nThe ancient Indian epic Ramayana mentions cloves.\\nHistorians believe that nutmeg, which originates from the Banda Islands in Southeast Asia, was introduc ed\\nto Europe in the 6th century BCE.[11] The Romans had cloves in the 1st century CE, as Pliny the Elder\\nwrote about them.[12]\\nSpices were among the most demanded and expensive produc ts available in Europe in the Middle Ages,[5]',\n",
              " 'wrote about them.[12]\\nSpices were among the most demanded and expensive produc ts available in Europe in the Middle Ages,[5]\\nthe most common being black pepper, cinnamon (and the cheaper alternative cassia), cumin, nutmeg,\\nginger, and cloves. Given medieval medicine\\'s main theory of humorism, spices and herbs were\\nindispensable to balance \"humors\" in food,[6] on a daily basis for good health at a time of recurrent\\npandemics. In addition to being desired by those using medieval medicine, the European elite also craved\\nspices in the Middle Ages, believing spices to be from and a conne ction to \"paradise\".[13] An example of\\nthe European aristocracy\\'s demand for spice comes from the King of Aragon, who invested substantial',\n",
              " 'the European aristocracy\\'s demand for spice comes from the King of Aragon, who invested substantial\\nresources into bringing back spices to Spain in the 12th century. He was specifically looking for spices to\\nput in wine and w as not alone among European monarchs at the time to have such a desire for spice.[14]History\\nEarly history\\nMiddle Ages\\n\"The Mullus\" harvesting pepper.\\nIllustration from a French edition of\\nThe Travels of Marco Polo.\\nTurmeric powder, mustard seeds,\\nchili powder, cumin seedsSpices were all imported from plantations in Asia and Africa, which\\nmade them expensive. From the 8th until the 15th century, the\\nRepublic of Venice held a monopol y on spice trade with the Middle\\nEast, using this position to dominate the neighbor ing Italian',\n",
              " 'made them expensive. From the 8th until the 15th century, the\\nRepublic of Venice held a monopol y on spice trade with the Middle\\nEast, using this position to dominate the neighbor ing Italian\\nmaritime republics and city-states. The trade made the region rich. It\\nhas been estimated that around 1,000 tons of pepper and 1,000 tons\\nof other common spices were imported into Western Europe each\\nyear during the Late Middle Ages. The value of these goods  was\\nthe equivalent of a yearly supply of grain for 1.5 million people.[15]\\nThe most exclusive was saffron, used as much for its vivid yellow-\\nred color as for its flavor. Spices that have now fallen into obscurity\\nin European cuisine include grains of paradise, a relative of\\ncardamom which mostly replaced pepper in late medieval north',\n",
              " 'red color as for its flavor. Spices that have now fallen into obscurity\\nin European cuisine include grains of paradise, a relative of\\ncardamom which mostly replaced pepper in late medieval north\\nFrench cooking, long pe pper, mace, spikenard, galangal, and cubeb.[16]\\nSpain and Portugal were interested in seeking new routes to trade in spices and other valuable produc ts\\nfrom Asia. The control of trade routes and the spice-produc ing regions were the main reasons that\\nPortugue se navigator Vasco da Gama sailed to India in 1499.[8] When da Gama discovered the pepper\\nmarket in India, he was able to secure peppers for a much cheaper price than the ones demanded by\\nVenice.[14] At around  the same time, Christophe r Columbus returned from the New World. He described to',\n",
              " 'Venice.[14] At around  the same time, Christophe r Columbus returned from the New World. He described to\\ninvestors the new spices available there.\\nAnother source of competition in the spice trade during the 15th and 16th centuries was the Ragusans from\\nthe maritime republic of Dubrovnik in southern Croatia.[17] The military prowess of Afonso de\\nAlbuque rque (1453–1515)  allowed the Portugue se to take control of the sea routes to India. In 1506, he\\ntook the island of Socotra in the mouth of the Red Sea and, in 1507, Ormuz in the Persian Gulf. Since\\nbecoming the viceroy of the Indies, he took Goa in India in 1510, and Malacca on the Malay peninsula in\\n1511. The Portugue se could now  trade directly with Siam, China, and the Maluku I slands.',\n",
              " 'becoming the viceroy of the Indies, he took Goa in India in 1510, and Malacca on the Malay peninsula in\\n1511. The Portugue se could now  trade directly with Siam, China, and the Maluku I slands.\\nWith the discovery of the New World came new spices, including allspice, chili peppers, vanilla, and\\nchocolate. This development kept the spice trade, with America as a latecomer with its new seasonings,\\nprofitable well into the 19th century.\\nSpices are primarily used as food flavoring or to create variety.[18]\\nThey are also used to perfume cosmetics and incense. At various\\nperiods, many spices were used in herbal medicine. Finally, since\\nthey are expensive, rare, and exotic commodities, their conspicuous\\nconsumption has often been a symbol of wealth and social class.[16]',\n",
              " 'they are expensive, rare, and exotic commodities, their conspicuous\\nconsumption has often been a symbol of wealth and social class.[16]\\nIt is often claimed that spices were used either as food preservatives\\nor to mask the taste of spoiled meat, especially in the European\\nMiddle Ages.[16][19] This is false.[20][21][22][16] In fact, spices are\\nrather ineffective as preservatives as compared to salting, smoking,Early modern period\\nFunction\\nPreservative claim\\nThe most popul ar explanation for\\nthe love of spices in the Middle\\nAges is that they were used to\\npreserve meat from spoiling, or to\\ncover up the taste of meat that\\nhad already gone  off. This\\ncompelling but false idea\\nconstitutes something of an urban\\nlegend, a story so instinctively\\nattractive that mere fact seems',\n",
              " 'cover up the taste of meat that\\nhad already gone  off. This\\ncompelling but false idea\\nconstitutes something of an urban\\nlegend, a story so instinctively\\nattractive that mere fact seems\\nunable to wipe it out... Anyone\\nwho could afford spices could\\neasily find meat fresher than what\\ncity dwellers today buy in their\\nlocal supermarket.[16]\\nA plate of Indian herbs and spicespickling, or drying, and are ineffective in covering the taste of\\nspoiled meat.[16] Moreover, spices have always been\\ncomparatively expensive: in 15th century Oxford, a whole pig cost\\nabout the same as a pound of the cheapest spice, pepper.[16] There\\nis also no evidence of such use from contemporary cookbooks :\\n\"Old cookbooks  make it clear that spices weren\\'t used as a',\n",
              " 'about the same as a pound of the cheapest spice, pepper.[16] There\\nis also no evidence of such use from contemporary cookbooks :\\n\"Old cookbooks  make it clear that spices weren\\'t used as a\\npreservative. They typically sugge st adding spices toward the end\\nof the cooking process, where they could have no preservative\\neffect whatsoever.\"[23] Indeed, Cristoforo di Messisbugo\\nsugge sted in the 16th century that pepper may speed up\\nspoilage.[23]\\nThough some spices have antimicrobial properties in vitro,[24]\\npepper—by far the most common spice—is relatively ineffective,\\nand in any case, salt, which is far cheaper, is also far more\\neffective.[23]\\nSeeds, such as fennel, mustard, nutmeg, and black\\npepper\\nFruits, such as Cayenne pepper and Chimayo pepper',\n",
              " 'and in any case, salt, which is far cheaper, is also far more\\neffective.[23]\\nSeeds, such as fennel, mustard, nutmeg, and black\\npepper\\nFruits, such as Cayenne pepper and Chimayo pepper\\nArils, such as mace (part of nutmeg plant fruit)\\nBarks, such as True Cinnamon and cassia\\nFlower buds, such as cloves\\nStigmas, such as saffron\\nRoots and rhizomes, such as turmeric, ginger and\\ngalangal\\nResins, such as asafoetida\\nAdvieh (Iran)\\nBaharat (Arab world, and the Middle East in general)\\nBerbere (Ethiopia, Eritrea and Somalia)\\nBumbu (Indonesia)\\nCajun (United States)\\nChaat masala (Indian subcontinent)\\nChili powder and crushed red pepper (Cayenne, Chipotle, Jalapeño, New Mexico, Tabasco,\\nand other cultivars)\\nCurry powder\\nFive-spice powder (China)Classification and types\\nCulinary herbs and spices',\n",
              " 'Chili powder and crushed red pepper (Cayenne, Chipotle, Jalapeño, New Mexico, Tabasco,\\nand other cultivars)\\nCurry powder\\nFive-spice powder (China)Classification and types\\nCulinary herbs and spices\\nBotanical basis\\nCommon spice mixtures\\nA shelf of common spices for a\\nhome kitchen in Canada or the\\nUnited States\\nPepper millGaram masala (Indian subcontinent)\\nHarissa (North Africa)\\nHawaij (Yemen)\\nJerk spice (Jamaica)\\nKhmeli suneli (Georgia, former U.S.S.R.)\\nMasala (a generic name for any mix used in the Indian subcontinent)\\nMixed spice (United Kingdom)\\nPanch phoron (Indian subcontinent)\\nPumpkin pie spice (United States)\\nQuatre épices (France)\\nRas el hanout (North Africa)\\nSharena sol (literally \"colorful salt\", Bulgaria)\\nShichimi tōgarashi (Japan)\\nSpeculaas (Belgium and Netherlands)',\n",
              " 'Pumpkin pie spice (United States)\\nQuatre épices (France)\\nRas el hanout (North Africa)\\nSharena sol (literally \"colorful salt\", Bulgaria)\\nShichimi tōgarashi (Japan)\\nSpeculaas (Belgium and Netherlands)\\nThuna Paha (Sri Lanka)\\nVegeta (Croatia)\\nZa\\'atar (Middle East)\\nFor ground spices, to grind a whole spice, the\\nclassic tool is mortar and pestle. Less labor-\\nintensive tools are more common now: a\\nmicroplane or fine grater can be used to grind\\nsmall amounts; a coffee grinder[note 2] is\\nuseful for larger amounts. A frequently used\\nspice such as black pepper may merit storage\\nin its own hand gr inder or mill.\\nThe flavor of a spice is derived in part from\\ncompounds  (volatile oils) that oxidize or\\nevaporate when exposed to air. Grinding a',\n",
              " 'in its own hand gr inder or mill.\\nThe flavor of a spice is derived in part from\\ncompounds  (volatile oils) that oxidize or\\nevaporate when exposed to air. Grinding a\\nspice greatly increases its surface area and so increases the rates of\\noxidation and evaporation. Thus, the flavor is maximized by storing a spice whole and grinding when\\nneeded. The shelf life of a whole dry spice is roughl y two years; of a ground spice roughl y six months.[25]\\nThe \"flavor life\" of a ground spice can be much shorter.[note 3] Ground spices are better stored away from\\nlight.[note 4]\\nSome flavor elements in spices are soluble in water; many are soluble in oil or fat. As a general rule, the\\nflavors from a spice take time to infuse into the food so spices are added early in preparation. This contrasts',\n",
              " 'flavors from a spice take time to infuse into the food so spices are added early in preparation. This contrasts\\nto herbs which are usually added late in preparation.[25]Handling\\nSalmonella contamination\\nSpices and herbs at a shop in Goa,\\nIndiaTop Spice Producing Countries\\n(in metric tonnes)\\nRank Country 2010 2011\\n1 India 1,474,9001,525,000\\n2 Bangladesh128,517 139,775\\n3 Turkey 107,000 113,783\\n4 China 90,000 95,890\\n5 Pakistan 53,647 53,620\\n6 Iran 18,028 21,307\\n7 Nepal 20,360 20,905\\n8 Colombia 16,998 19,378\\n9 Ethiopia 27,122 17,905\\n10 Sri Lanka 8,293 8,438\\n— World 1,995,5232,063,472\\nSource: UN Food & Agriculture Organization[30]A study by the Food and Drug Administration of shipments of spices to the United States during fiscal',\n",
              " '10 Sri Lanka 8,293 8,438\\n— World 1,995,5232,063,472\\nSource: UN Food & Agriculture Organization[30]A study by the Food and Drug Administration of shipments of spices to the United States during fiscal\\nyears 2007 –2009 showed about 7% of the shipments were contaminated by Salmonella bacteria, some of it\\nantibiotic-resistant.[26] As most spices are cooke d before being served salmonella contamination often has\\nno effect, but some spices, particularly pepper, are often eaten raw and present at table for conve nient use.\\nShipments from Mexico and India, a major produc er, were the most frequently contaminated.[27] Food\\nirradiation is said to minimise this risk.[28][29]\\nProduction\\nStandardization']"
            ]
          },
          "execution_count": 13,
          "metadata": {},
          "output_type": "execute_result"
        }
      ],
      "source": [
        "texts[:50]"
      ]
    },
    {
      "cell_type": "markdown",
      "metadata": {
        "id": "V1WK54-74Rpt"
      },
      "source": [
        "### Load the dataset into the vector store\n",
        "\n"
      ]
    },
    {
      "cell_type": "code",
      "execution_count": 14,
      "metadata": {
        "colab": {
          "base_uri": "https://localhost:8080/"
        },
        "id": "GX5BECsdSUUM",
        "outputId": "cdff3467-8af3-45cd-f750-f3174bc521fb"
      },
      "outputs": [
        {
          "name": "stdout",
          "output_type": "stream",
          "text": [
            "Inserted 22 headlines.\n"
          ]
        }
      ],
      "source": [
        "\n",
        "astra_vector_store.add_texts(texts[:50]) #Also performs embeddings\n",
        "\n",
        "print(\"Inserted %i headlines.\" % len(texts[:50]))\n",
        "\n",
        "astra_vector_index = VectorStoreIndexWrapper(vectorstore=astra_vector_store)"
      ]
    },
    {
      "cell_type": "code",
      "execution_count": null,
      "metadata": {
        "id": "KhVf0kir2Uke"
      },
      "outputs": [],
      "source": []
    },
    {
      "cell_type": "markdown",
      "metadata": {
        "id": "oLJp8yPF4Rpt"
      },
      "source": [
        "### Run the QA cycle\n",
        "\n",
        "Simply run the cells and ask a question -- or `quit` to stop. (you can also stop execution with the \"▪\" button on the top toolbar)\n",
        "\n",
        "Here are some suggested questions:\n",
        "- _What is the current GDP?_\n",
        "- _How much the agriculture target will be increased to and what the focus will be_\n"
      ]
    },
    {
      "cell_type": "code",
      "execution_count": 15,
      "metadata": {
        "colab": {
          "base_uri": "https://localhost:8080/"
        },
        "id": "MbJugrh7SX3C",
        "outputId": "10e8f954-a113-47a2-a84c-615a9f6e5dc6"
      },
      "outputs": [
        {
          "name": "stdout",
          "output_type": "stream",
          "text": [
            "\n",
            "QUESTION: \"Which country produces most spice?\"\n",
            "ANSWER: \"India contributes to 75% of global spice production, making it the top spice producing country.\"\n",
            "\n",
            "FIRST DOCUMENTS BY RELEVANCE:\n",
            "    [0.9265] \"10 Sri Lanka 8,293 8,438\n",
            "— World 1,995,5232,063,472\n",
            "Source: UN Food & Agriculture Or ...\"\n",
            "    [0.9218] \"whole and in pow der form.\n",
            "As of 2019, there is not enough clinical evidence to indi ...\"\n",
            "    [0.9192] \"the European aristocracy's demand for spice comes from the King of Aragon, who inves ...\"\n",
            "    [0.9177] \"flavors from a spice take time to infuse into the food so spices are added early in  ...\"\n",
            "\n",
            "QUESTION: \"quit()\"\n",
            "ANSWER: \"I don't know.\"\n",
            "\n",
            "FIRST DOCUMENTS BY RELEVANCE:\n",
            "    [0.8544] \"cover up the taste of meat that\n",
            "had already gone  off. This\n",
            "compelling but false ide ...\"\n",
            "    [0.8496] \"made them expensive. From the 8th until the 15th century, the\n",
            "Republic of Venice hel ...\"\n",
            "    [0.8484] \"Venice.[14] At around  the same time, Christophe r Columbus returned from the New Wo ...\"\n",
            "    [0.8469] \"Pumpkin pie spice (United States)\n",
            "Quatre épices (France)\n",
            "Ras el hanout (North Africa ...\"\n",
            "\n",
            "QUESTION: \"stop\"\n",
            "ANSWER: \"I do not know the answer to this question.\"\n",
            "\n",
            "FIRST DOCUMENTS BY RELEVANCE:\n",
            "    [0.8646] \"cover up the taste of meat that\n",
            "had already gone  off. This\n",
            "compelling but false ide ...\"\n",
            "    [0.8640] \"made them expensive. From the 8th until the 15th century, the\n",
            "Republic of Venice hel ...\"\n",
            "    [0.8637] \"Venice.[14] At around  the same time, Christophe r Columbus returned from the New Wo ...\"\n",
            "    [0.8635] \"were conne cted with magic, medicine, religion, tradition, a nd pr eservation.[10]\n",
            "I ...\"\n"
          ]
        }
      ],
      "source": [
        "first_question = True\n",
        "while True:\n",
        "    if first_question:\n",
        "        query_text = input(\"\\nEnter your question (or type 'quit' to exit): \").strip()\n",
        "    else:\n",
        "        query_text = input(\"\\nWhat's your next question (or type 'quit' to exit): \").strip()\n",
        "\n",
        "    if query_text.lower() == \"quit\":\n",
        "        break\n",
        "\n",
        "    if query_text == \"\":\n",
        "        continue\n",
        "\n",
        "    first_question = False\n",
        "\n",
        "    print(\"\\nQUESTION: \\\"%s\\\"\" % query_text)\n",
        "    answer = astra_vector_index.query(query_text, llm=llm).strip()\n",
        "    print(\"ANSWER: \\\"%s\\\"\\n\" % answer)\n",
        "\n",
        "    print(\"FIRST DOCUMENTS BY RELEVANCE:\")\n",
        "    for doc, score in astra_vector_store.similarity_search_with_score(query_text, k=4):\n",
        "        print(\"    [%0.4f] \\\"%s ...\\\"\" % (score, doc.page_content[:84]))"
      ]
    },
    {
      "cell_type": "code",
      "execution_count": null,
      "metadata": {
        "id": "dSaUPguw389l"
      },
      "outputs": [],
      "source": []
    }
  ],
  "metadata": {
    "colab": {
      "provenance": []
    },
    "kernelspec": {
      "display_name": "Python 3 (ipykernel)",
      "language": "python",
      "name": "python3"
    },
    "language_info": {
      "codemirror_mode": {
        "name": "ipython",
        "version": 3
      },
      "file_extension": ".py",
      "mimetype": "text/x-python",
      "name": "python",
      "nbconvert_exporter": "python",
      "pygments_lexer": "ipython3",
      "version": "3.10.0"
    }
  },
  "nbformat": 4,
  "nbformat_minor": 0
}
